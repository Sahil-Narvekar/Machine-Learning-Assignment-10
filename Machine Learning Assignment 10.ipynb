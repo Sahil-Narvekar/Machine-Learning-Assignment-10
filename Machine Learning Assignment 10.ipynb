{
 "cells": [
  {
   "cell_type": "code",
   "execution_count": null,
   "metadata": {},
   "outputs": [],
   "source": [
    "1. Define the Bayesian interpretation of probability."
   ]
  },
  {
   "cell_type": "code",
   "execution_count": null,
   "metadata": {},
   "outputs": [],
   "source": [
    "Bayesian probability is an interpretation of the concept of probability, in which, instead of frequency \n",
    "or propensity of some phenomenon, probability is interpreted as reasonable expectation representing a \n",
    "state of knowledge or as quantification of a personal belief."
   ]
  },
  {
   "cell_type": "code",
   "execution_count": null,
   "metadata": {},
   "outputs": [],
   "source": [
    "2. Define probability of a union of two events with equation."
   ]
  },
  {
   "cell_type": "code",
   "execution_count": null,
   "metadata": {},
   "outputs": [],
   "source": [
    "P(A∪B)=P(A)+P(B)−P(A∩B)\n",
    "Probability of a union of two events is equal to sum of probabilty of  2 events occuring indvisually\n",
    "subracted by probability of 2 events occuring simultaneously."
   ]
  },
  {
   "cell_type": "code",
   "execution_count": null,
   "metadata": {},
   "outputs": [],
   "source": [
    "3. What is joint probability? What is its formula?"
   ]
  },
  {
   "cell_type": "code",
   "execution_count": null,
   "metadata": {},
   "outputs": [],
   "source": [
    "A joint probability, in probability theory, refers to the probability that two events will both occur. \n",
    "In other words, joint probability is the likelihood of two events occurring together.\n",
    "P(A∩B)=P(A)*P(B)\n",
    "P(A∩B)=P(A)+P(B)−P(A∪B)"
   ]
  },
  {
   "cell_type": "code",
   "execution_count": null,
   "metadata": {},
   "outputs": [],
   "source": [
    "4. What is chain rule of probability?"
   ]
  },
  {
   "cell_type": "code",
   "execution_count": null,
   "metadata": {},
   "outputs": [],
   "source": [
    "The chain rule, or general product rule, calculates any component of the joint distribution of a set of \n",
    "random variables using only conditional probabilities. This probability theory is used as a foundation for\n",
    "backpropagation and in creating Bayesian networks.\n",
    "P(A,B) = P(B | A)*P(A)"
   ]
  },
  {
   "cell_type": "code",
   "execution_count": null,
   "metadata": {},
   "outputs": [],
   "source": [
    "5. What is conditional probability means? What is the formula of it?"
   ]
  },
  {
   "cell_type": "code",
   "execution_count": null,
   "metadata": {},
   "outputs": [],
   "source": [
    "The conditional probability of an event B is the probability that the event will occur given the knowledge\n",
    "that an event A has already occurred. This probability is written P(B|A), notation for the probability of\n",
    "B given A. In the case where events A and B are independent (where event A has no effect on the probability\n",
    "of event B), the conditional probability of event B given event A is simply the probability of event B,\n",
    "that is P(B).If events A and B are not independent, then the probability of the intersection of A and B\n",
    "(the probability that both events occur) is defined by\n",
    "P(A and B) = P(A)*P(B|A).\n",
    "From this definition, the conditional probability P(B|A) is easily obtained by dividing by P(A):\n",
    "    P(B|A)=P(A and B)/P(A)"
   ]
  },
  {
   "cell_type": "code",
   "execution_count": null,
   "metadata": {},
   "outputs": [],
   "source": [
    "6. What are continuous random variables?"
   ]
  },
  {
   "cell_type": "code",
   "execution_count": null,
   "metadata": {},
   "outputs": [],
   "source": [
    "A continuous random variable X takes all values in a given interval of numbers.\n",
    "▪         The probability distribution of a continuous random variable is shown by a density curve.\n",
    "▪         The probability that X is between an interval of numbers is the area under the density \n",
    "          curve between the interval endpoints.\n",
    "▪         The probability that a continuous random variable X is exactly equal to a number is zero"
   ]
  },
  {
   "cell_type": "code",
   "execution_count": null,
   "metadata": {},
   "outputs": [],
   "source": [
    "7. What are Bernoulli distributions? What is the formula of it?"
   ]
  },
  {
   "cell_type": "code",
   "execution_count": null,
   "metadata": {},
   "outputs": [],
   "source": [
    "The Bernoulli distribution is the discrete probability distribution of a random variable which takes a \n",
    "binary, boolean output: 1 with probability p, and 0 with probability (1-p). The idea is that, whenever \n",
    "you are running an experiment which might lead either to a success or to a failure, you can associate \n",
    "with your success (labeled with 1) a probability p, while your insuccess (labeled with 0) will have\n",
    "probability (1-p).\n",
    "p(success)=k\n",
    "p(failure)=1-k"
   ]
  },
  {
   "cell_type": "code",
   "execution_count": null,
   "metadata": {},
   "outputs": [],
   "source": [
    "8. What is binomial distribution? What is the formula?"
   ]
  },
  {
   "cell_type": "code",
   "execution_count": null,
   "metadata": {},
   "outputs": [],
   "source": [
    "binomial distribution is the discrete probability distribution that gives only two possible results in an\n",
    "experiment, either Success or Failure. For example, if we toss a coin, there could be only two possible\n",
    "outcomes: heads or tails, and if any test is taken, then there could be only two results: pass or fail. \n",
    "This distribution is also called a binomial probability distribution.\n",
    "P(x:n,p) = nCx*(p^x)*(1-p)^(n-x)\n",
    "where\n",
    "n = the number of experiments\n",
    "x = 0, 1, 2, 3, 4, …\n",
    "p = Probability of Success in a single experiment\n",
    "q = Probability of Failure in a single experiment = 1 – p"
   ]
  },
  {
   "cell_type": "code",
   "execution_count": null,
   "metadata": {},
   "outputs": [],
   "source": [
    "9. What is Poisson distribution? What is the formula?"
   ]
  },
  {
   "cell_type": "code",
   "execution_count": null,
   "metadata": {},
   "outputs": [],
   "source": [
    "A Poisson probability distribution of a discrete random variable gives the probability of a number of \n",
    "events occurring in a fixed interval of time or space, if these events happen at a known average rate \n",
    "and independently of the time since the last event.\n",
    "P(X=x)=(e^−λ)*(λ^x)/x!"
   ]
  },
  {
   "cell_type": "code",
   "execution_count": null,
   "metadata": {},
   "outputs": [],
   "source": [
    "10. Define covariance."
   ]
  },
  {
   "cell_type": "code",
   "execution_count": null,
   "metadata": {},
   "outputs": [],
   "source": [
    "Covariance is a measure of how much two random variables vary together. It's similar to variance, but \n",
    "where variance tells you how a single variable varies, co variance tells you how two variables vary \n",
    "together."
   ]
  },
  {
   "cell_type": "code",
   "execution_count": null,
   "metadata": {},
   "outputs": [],
   "source": [
    "11. Define correlation"
   ]
  },
  {
   "cell_type": "code",
   "execution_count": null,
   "metadata": {},
   "outputs": [],
   "source": [
    "Correlation indicates the relationship between two variables of a series so that changes in the\n",
    "values of one variable are associated with changes in the values of the other variable. Importance \n",
    "of correlation.\n",
    "covariance vs correlation to measure relationship between variables, correlation is preferred over\n",
    "covariance because it does not get affected by the change in scale. "
   ]
  },
  {
   "cell_type": "code",
   "execution_count": null,
   "metadata": {},
   "outputs": [],
   "source": [
    "12. Define sampling with replacement. Give example."
   ]
  },
  {
   "cell_type": "code",
   "execution_count": null,
   "metadata": {},
   "outputs": [],
   "source": [
    "Sampling is called with replacement when a unit selected at random from the population is returned to the\n",
    "population and then a second element is selected at random.Whenever a unit is selected, the population \n",
    "contains all the same units, so a unit may be selected more than once.\n",
    "Example while drawing a random card from deck of 52 cards the probabilty to get queen card is  4/52\n",
    "  however when we try to draw random again we return the previously drawn card so total number of cards\n",
    "become 52 again.\n"
   ]
  },
  {
   "cell_type": "code",
   "execution_count": null,
   "metadata": {},
   "outputs": [],
   "source": [
    "13. What is sampling without replacement? Give example."
   ]
  },
  {
   "cell_type": "code",
   "execution_count": null,
   "metadata": {},
   "outputs": [],
   "source": [
    "Sampling is called with replacement when a unit selected at random from the population is not returned to the\n",
    "population and then a second element is selected at random. Whenever a unit is selected, the population does \n",
    "not contain previously selected unit, so a selected unit does not appear again.\n",
    "Example while drawing a random card from deck of 52 cards the probabilty to get queen card is  4/52\n",
    "  however when we try to draw random again we do not return the previously drawn card so total number of \n",
    "cards become 51 hence now probabilty value changes."
   ]
  },
  {
   "cell_type": "code",
   "execution_count": null,
   "metadata": {},
   "outputs": [],
   "source": [
    "14. What is hypothesis? Give example."
   ]
  },
  {
   "cell_type": "code",
   "execution_count": null,
   "metadata": {},
   "outputs": [],
   "source": [
    "hypothesis is a hypothesis that is testable on the basis of observed data modelled as the realised values \n",
    "taken by a collection of random variables.[1] A set of data is modelled as being realised values of a \n",
    "collection of random variables having a joint probability distribution in some set of possible joint\n",
    "distributions. The hypothesis being tested is exactly that set of possible probability distributions. A \n",
    "statistical hypothesis test is a method of statistical inference.\n",
    "Consumption of sugary drinks every day leads to obesity is an example of a simple hypothesis.\n",
    "All lilies have the same number of petals is an example of a null hypothesis."
   ]
  }
 ],
 "metadata": {
  "kernelspec": {
   "display_name": "Python 3",
   "language": "python",
   "name": "python3"
  },
  "language_info": {
   "codemirror_mode": {
    "name": "ipython",
    "version": 3
   },
   "file_extension": ".py",
   "mimetype": "text/x-python",
   "name": "python",
   "nbconvert_exporter": "python",
   "pygments_lexer": "ipython3",
   "version": "3.8.3"
  }
 },
 "nbformat": 4,
 "nbformat_minor": 4
}
